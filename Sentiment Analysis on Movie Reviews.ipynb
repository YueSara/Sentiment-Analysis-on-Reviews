{
 "cells": [
  {
   "cell_type": "markdown",
   "metadata": {},
   "source": [
    "# Sentiment Analysis on IMDb Movie Reviews\n",
   ]
  },
  {
   "cell_type": "markdown",
   "metadata": {},
   "source": [
    "## Create labeled documents "
   ]
  },
  {
   "cell_type": "code",
   "execution_count": 1,
   "metadata": {},
   "outputs": [],
   "source": [
    "import os\n",
    "import io\n",
    "import random\n",
    "import nltk\n",
    "import string\n",
    "import csv"
   ]
  },
  {
   "cell_type": "code",
   "execution_count": 2,
   "metadata": {},
   "outputs": [],
   "source": [
    "# go through all files and put them into one document together with its label\n",
    "filenames_p1 = os.listdir(\"imdb/train/pos\")\n",
    "filenames_p2 = os.listdir(\"imdb/test/pos\")\n",
    "\n",
    "filenames_n1 = os.listdir(\"imdb/train/neg\")\n",
    "filenames_n2 = os.listdir(\"imdb/test/neg\")\n",
    "\n",
    "p1 = []\n",
    "for filename in filenames_p1:\n",
    "    pos_file = io.open((\"imdb/train/pos/\"+filename), mode=\"r\", encoding=\"utf-8\")\n",
    "    p1.append(pos_file.read())\n",
    "    pos_file.close()\n",
    "\n",
    "p2 = []\n",
    "for filename in filenames_p2:\n",
    "    pos_file = io.open((\"imdb/test/pos/\"+filename), mode=\"r\", encoding=\"utf-8\")\n",
    "    p2.append(pos_file.read())\n",
    "    pos_file.close()\n",
    "    \n",
    "n1 = []\n",
    "for filename in filenames_n1:\n",
    "    neg_file = io.open((\"imdb/train/neg/\"+filename), mode=\"r\", encoding=\"utf-8\")\n",
    "    n1.append(neg_file.read())\n",
    "    neg_file.close()\n",
    "\n",
    "n2 = []\n",
    "for filename in filenames_n2:\n",
    "    neg_file = io.open((\"imdb/test/neg/\"+filename), mode=\"r\", encoding=\"utf-8\")\n",
    "    n2.append(neg_file.read())\n",
    "    neg_file.close()\n",
    "\n",
    "# document format: [(review,  label)]\n",
    "all_data = ([(rev, 'pos') for rev in p1] + [(rev, 'pos') for rev in p2] + \n",
    "            [(rev, 'neg') for rev in n1] + [(rev, 'neg') for rev in n2])\n",
    "\n",
    "reviews = [rev for rev, label in all_data]\n",
    "labels = [label for rev, label in all_data]"
   ]
  },
  {
   "cell_type": "code",
   "execution_count": 18,
   "metadata": {
    "scrolled": false
   },
   "outputs": [
    {
     "data": {
      "text/plain": [
       "'Bromwell High is a cartoon comedy. It ran at the same time as some other programs about school life, such as \"Teachers\". My 35 years in the teaching profession lead me to believe that Bromwell High\\'s satire is much closer to reality than is \"Teachers\". The scramble to survive financially, the insightful students who can see right through their pathetic teachers\\' pomp, the pettiness of the whole situation, all remind me of the schools I knew and their students. When I saw the episode in which a student repeatedly tried to burn down the school, I immediately recalled ......... at .......... High. A classic line: INSPECTOR: I\\'m here to sack one of your teachers. STUDENT: Welcome to Bromwell High. I expect that many adults of my age think that Bromwell High is far fetched. What a pity that it isn\\'t!'"
      ]
     },
     "execution_count": 18,
     "metadata": {},
     "output_type": "execute_result"
    }
   ],
   "source": [
    "#example review\n",
    "reviews[0]"
   ]
  },
  {
   "cell_type": "markdown",
   "metadata": {},
   "source": [
    "## Preprocessing "
   ]
  },
  {
   "cell_type": "code",
   "execution_count": 19,
   "metadata": {},
   "outputs": [],
   "source": [
    "# preprocessing the reviews\n",
    "from nltk.corpus import stopwords\n",
    "stopwords = set(stopwords.words('english'))\n",
    "\n",
    "from nltk.stem import WordNetLemmatizer\n",
    "lemmatizer = WordNetLemmatizer()\n",
    "\n",
    "# for lemmatizing, including a part of speech (pos) tag improves the results \n",
    "# pos tags that the wordnet lemmatizer accepts are noun(n), verb(v) , adj(j) and adv(r)\n",
    "from nltk.corpus import wordnet\n",
    "from nltk.tag import pos_tag\n",
    "\n",
    "def get_pos(word):\n",
    "    # example word [\"tree\"]: pos_tag returns ('tree', 'NN'), we need the first (and only) tuple at position [0],\n",
    "    # and the second string's (position [1]) first character (position [0]) \n",
    "    # if fitting tag is not found, NOUN will be used as default\n",
    "    \n",
    "    tag = pos_tag([word])[0][1][0]\n",
    "    tag_dict = {\"J\": wordnet.ADJ,\n",
    "                \"N\": wordnet.NOUN,\n",
    "                \"V\": wordnet.VERB,\n",
    "                \"R\": wordnet.ADV}\n",
    "    return tag_dict.get(tag, wordnet.NOUN)"
   ]
  },
  {
   "cell_type": "code",
   "execution_count": 22,
   "metadata": {},
   "outputs": [],
   "source": [
    "# remove punctuation, stopwords, and capital letters, lemmatize\n",
    "clean_reviews = []\n",
    "for review in reviews:\n",
    "    words = nltk.word_tokenize(review)\n",
    "    nopunc = [word.translate(str.maketrans('', '', string.punctuation)) for word in words]\n",
    "    nostop = [word.lower() for word in nopunc if word not in stopwords]\n",
    "    while ('' in nostop):\n",
    "        nostop.remove('')\n",
    "    lemmas = [lemmatizer.lemmatize(word, get_pos(word)) for word in nostop]\n",
    "    clean_review = ' '.join(lemmas)\n",
    "    clean_reviews.append(clean_review)"
   ]
  },
  {
   "cell_type": "code",
   "execution_count": 29,
   "metadata": {
    "scrolled": true
   },
   "outputs": [
    {
     "data": {
      "text/plain": [
       "'bromwell high cartoon comedy it ran time program school life teacher my 35 year teach profession lead believe bromwell high satire much closer reality teacher the scramble survive financially insightful student see right pathetic teacher pomp pettiness whole situation remind school i knew student when i saw episode student repeatedly try burn school i immediately recall high a classic line inspector i sack one teacher student welcome bromwell high i expect many adult age think bromwell high far fetch what pity nt'"
      ]
     },
     "execution_count": 29,
     "metadata": {},
     "output_type": "execute_result"
    }
   ],
   "source": [
    "#example clean review\n",
    "clean_reviews[0]"
   ]
  },
  {
   "cell_type": "markdown",
   "metadata": {},
   "source": [
    "## Split and save data into CSV files for quick access "
   ]
  },
  {
   "cell_type": "code",
   "execution_count": 24,
   "metadata": {},
   "outputs": [],
   "source": [
    "# split data into 80% training and 20% test sets, shuffle automatically\n",
    "from sklearn.model_selection import train_test_split\n",
    "      \n",
    "rev_train, rev_test, label_train, label_test = train_test_split(clean_reviews, labels,\n",
    "                                                random_state=1,train_size=0.8)"
   ]
  },
  {
   "cell_type": "code",
   "execution_count": 25,
   "metadata": {},
   "outputs": [],
   "source": [
    "# save training and test sets into csv files for quicker access\n",
    "with open (\"rev_train.csv\", \"a\", newline=\"\", encoding=\"utf8\") as rtrain:\n",
    "    writer = csv.writer(rtrain, delimiter=\",\")\n",
    "    for rev in rev_train:\n",
    "        writer.writerow([rev])\n",
    "    rtrain.close()\n",
    "    \n",
    "with open (\"rev_test.csv\", \"a\", newline=\"\", encoding=\"utf8\") as rtest:\n",
    "    writer = csv.writer(rtest, delimiter=\",\")\n",
    "    for rev in rev_test:\n",
    "        writer.writerow([rev])\n",
    "    rtest.close()\n",
    "\n",
    "with open (\"label_train.csv\", \"a\", newline=\"\", encoding=\"utf8\") as ltrain:\n",
    "    writer = csv.writer(ltrain, delimiter=\",\")\n",
    "    for label in label_train:\n",
    "        writer.writerow([label])\n",
    "    ltrain.close()\n",
    "    \n",
    "with open (\"label_test.csv\", \"a\", newline=\"\", encoding=\"utf8\") as ltest:\n",
    "    writer = csv.writer(ltest, delimiter=\",\")\n",
    "    for label in label_test:\n",
    "        writer.writerow([label])\n",
    "    ltest.close()"
   ]
  },
  {
   "cell_type": "markdown",
   "metadata": {},
   "source": [
    "## Feature Extraction 1 - Count Vectorizer"
   ]
  },
  {
   "cell_type": "code",
   "execution_count": 2,
   "metadata": {},
   "outputs": [],
   "source": [
    "import nltk\n",
    "import sklearn\n",
    "from sklearn.feature_extraction.text import CountVectorizer"
   ]
  },
  {
   "cell_type": "code",
   "execution_count": 3,
   "metadata": {},
   "outputs": [],
   "source": [
    "# open rev_train file and put into list\n",
    "rev_train = []\n",
    "file = io.open(\"rev_train.csv\", mode=\"r\", encoding=\"utf-8\") \n",
    "for line in file:\n",
    "    rev_train.append(line)\n",
    "file.close()"
   ]
  },
  {
   "cell_type": "code",
   "execution_count": 4,
   "metadata": {},
   "outputs": [],
   "source": [
    "reviews_CV= CountVectorizer(tokenizer=nltk.word_tokenize, max_features=2000) \n",
    "review_train_counts = reviews_CV.fit_transform(rev_train)"
   ]
  },
  {
   "cell_type": "code",
   "execution_count": 5,
   "metadata": {},
   "outputs": [
    {
     "data": {
      "text/plain": [
       "{'br': 234,\n",
       " 'let': 1024,\n",
       " 'murder': 1165,\n",
       " 'wife': 1950,\n",
       " 'father': 662,\n",
       " 'seemingly': 1541,\n",
       " 'innocent': 917,\n",
       " 'conversation': 397,\n",
       " 'two': 1851,\n",
       " 'stranger': 1679,\n",
       " 'anthony': 108,\n",
       " 'guy': 802,\n",
       " 'meet': 1110,\n",
       " 'train': 1829,\n",
       " 'journey': 965,\n",
       " 'solid': 1618,\n",
       " 'player': 1321,\n",
       " 'whose': 1947,\n",
       " 'problem': 1365,\n",
       " 'wo': 1970,\n",
       " 'nt': 1216,\n",
       " 'marry': 1089,\n",
       " 'daughter': 454,\n",
       " 'anne': 104,\n",
       " 'laugh': 1005,\n",
       " 'whole': 1946,\n",
       " 'joke': 963,\n",
       " 'the': 1770,\n",
       " 'follow': 705,\n",
       " 'week': 1927,\n",
       " 'in': 906,\n",
       " 'scene': 1518,\n",
       " 'classic': 337,\n",
       " 'hitchcock': 850,\n",
       " 'suspense': 1728,\n",
       " 'a': 23,\n",
       " 'glass': 774,\n",
       " 'fall': 647,\n",
       " 'see': 1538,\n",
       " 'reflect': 1436,\n",
       " 'twice': 1849,\n",
       " 'cold': 350,\n",
       " 'part': 1276,\n",
       " 'deal': 460,\n",
       " 'complete': 372,\n",
       " 'approach': 124,\n",
       " 'expect': 622,\n",
       " 'even': 602,\n",
       " 'bit': 205,\n",
       " 'matter': 1099,\n",
       " 'help': 830,\n",
       " 'young': 1994,\n",
       " 'sister': 1592,\n",
       " 'turn': 1846,\n",
       " 'suspect': 1727,\n",
       " 'so': 1613,\n",
       " 'commit': 364,\n",
       " 'another': 106,\n",
       " 'go': 775,\n",
       " 'power': 1346,\n",
       " 'film': 681,\n",
       " 'human': 875,\n",
       " 'side': 1580,\n",
       " 'nature': 1182,\n",
       " 'general': 757,\n",
       " 'i': 885,\n",
       " 'like': 1032,\n",
       " 'dinosaur': 505,\n",
       " 'movie': 1162,\n",
       " 'one': 1238,\n",
       " 'pure': 1385,\n",
       " 'crap': 416,\n",
       " 'no': 1201,\n",
       " 'script': 1529,\n",
       " 'dialogue': 499,\n",
       " 'act': 40,\n",
       " 'and': 93,\n",
       " 'try': 1844,\n",
       " 'show': 1578,\n",
       " 'tough': 1819,\n",
       " 'mouth': 1159,\n",
       " 'brother': 247,\n",
       " 'stupid': 1696,\n",
       " 'police': 1329,\n",
       " 'academy': 31,\n",
       " 'waste': 1915,\n",
       " 'time': 1802,\n",
       " 'money': 1144,\n",
       " 'saw': 1513,\n",
       " 'tv': 1847,\n",
       " 'really': 1424,\n",
       " 'understand': 1862,\n",
       " '7': 16,\n",
       " 'people': 1291,\n",
       " 'grade': 788,\n",
       " '10': 1,\n",
       " 'they': 1781,\n",
       " 'must': 1169,\n",
       " 'my': 1170,\n",
       " 'advice': 53,\n",
       " 'title': 1805,\n",
       " 'run': 1500,\n",
       " 'this': 1786,\n",
       " 'gem': 755,\n",
       " 'space': 1637,\n",
       " 'obvious': 1222,\n",
       " 'include': 907,\n",
       " 'cast': 287,\n",
       " 'list': 1036,\n",
       " 'late': 1002,\n",
       " 'ed': 558,\n",
       " 'george': 764,\n",
       " 'onto': 1240,\n",
       " 'it': 941,\n",
       " 'despite': 489,\n",
       " 'many': 1084,\n",
       " 'success': 1702,\n",
       " 'get': 766,\n",
       " 'chance': 302,\n",
       " 'develop': 493,\n",
       " 'talent': 1737,\n",
       " 'big': 201,\n",
       " 'screen': 1527,\n",
       " 'just': 972,\n",
       " 'think': 1784,\n",
       " 'could': 408,\n",
       " 'do': 520,\n",
       " 'version': 1887,\n",
       " 'quite': 1395,\n",
       " 'sure': 1718,\n",
       " 'give': 772,\n",
       " 'fair': 643,\n",
       " 'appreciate': 123,\n",
       " 'good': 780,\n",
       " 'quality': 1389,\n",
       " 'live': 1040,\n",
       " '90': 22,\n",
       " 'listen': 1037,\n",
       " 'ever': 605,\n",
       " 'might': 1125,\n",
       " 'ok': 1233,\n",
       " 'fan': 652,\n",
       " 'single': 1591,\n",
       " 'person': 1299,\n",
       " 'rap': 1405,\n",
       " 'boring': 224,\n",
       " 'point': 1327,\n",
       " 'say': 1514,\n",
       " 'thats': 1769,\n",
       " 'interest': 930,\n",
       " 'know': 990,\n",
       " 'thing': 1783,\n",
       " 'bug': 255,\n",
       " 'make': 1076,\n",
       " 'look': 1050,\n",
       " 'anything': 113,\n",
       " 'life': 1029,\n",
       " 'easy': 556,\n",
       " 'struggle': 1687,\n",
       " 'sell': 1544,\n",
       " 'drug': 544,\n",
       " 'realistic': 1421,\n",
       " 'release': 1443,\n",
       " '15': 5,\n",
       " 'year': 1989,\n",
       " 'impact': 899,\n",
       " 'maybe': 1102,\n",
       " 'flow': 701,\n",
       " 'rich': 1473,\n",
       " 'die': 501,\n",
       " 'b': 159,\n",
       " 'c': 264,\n",
       " 'd': 441,\n",
       " 'minute': 1133,\n",
       " 'plot': 1325,\n",
       " 'predictable': 1349,\n",
       " 'silly': 1584,\n",
       " 'believe': 195,\n",
       " 'take': 1735,\n",
       " 'write': 1985,\n",
       " 'review': 1471,\n",
       " 'credit': 424,\n",
       " 'ability': 25,\n",
       " 'since': 1588,\n",
       " 'play': 1319,\n",
       " 'michael': 1123,\n",
       " 'jackson': 945,\n",
       " 'ago': 60,\n",
       " 'hand': 807,\n",
       " 'talented': 1738,\n",
       " 'role': 1489,\n",
       " 'sat': 1509,\n",
       " 'watch': 1916,\n",
       " 'production': 1370,\n",
       " 'horrible': 861,\n",
       " 'sound': 1633,\n",
       " 'four': 723,\n",
       " 'letter': 1025,\n",
       " 'word': 1977,\n",
       " 'come': 356,\n",
       " 'mind': 1130,\n",
       " 'thought': 1791,\n",
       " 'however': 873,\n",
       " 'effort': 565,\n",
       " 'keep': 975,\n",
       " 'rat': 1409,\n",
       " 'simply': 1587,\n",
       " 'start': 1657,\n",
       " 'lame': 996,\n",
       " 'kid': 981,\n",
       " 'rent': 1455,\n",
       " '12': 4,\n",
       " 'monkey': 1145,\n",
       " 'day': 457,\n",
       " 'huge': 874,\n",
       " 'bruce': 250,\n",
       " 'heard': 823,\n",
       " 'some': 1619,\n",
       " 'bad': 163,\n",
       " 'pay': 1290,\n",
       " 'attention': 144,\n",
       " 'every': 606,\n",
       " 'second': 1535,\n",
       " 'felt': 673,\n",
       " 'several': 1559,\n",
       " 'but': 261,\n",
       " 'last': 1001,\n",
       " 'night': 1199,\n",
       " 'impressed': 902,\n",
       " 'everything': 609,\n",
       " 'action': 41,\n",
       " 'drama': 533,\n",
       " 'scifi': 1523,\n",
       " 'history': 848,\n",
       " 'dark': 452,\n",
       " 'humor': 877,\n",
       " 'little': 1039,\n",
       " 'romance': 1491,\n",
       " 'actor': 42,\n",
       " 'terrific': 1762,\n",
       " 'job': 958,\n",
       " 'lot': 1056,\n",
       " 'car': 279,\n",
       " 'amaze': 85,\n",
       " 'much': 1164,\n",
       " 'great': 792,\n",
       " 'he': 820,\n",
       " 'character': 306,\n",
       " 'crazy': 419,\n",
       " 'work': 1978,\n",
       " 'extremely': 634,\n",
       " 'believable': 194,\n",
       " 'story': 1675,\n",
       " 'scary': 1517,\n",
       " 'wake': 1907,\n",
       " 'call': 268,\n",
       " 'james': 946,\n",
       " 'man': 1080,\n",
       " 'future': 746,\n",
       " 'past': 1284,\n",
       " 'kill': 982,\n",
       " '5': 12,\n",
       " '1': 0,\n",
       " 'survive': 1726,\n",
       " 'animal': 99,\n",
       " 'ground': 795,\n",
       " 'scientist': 1522,\n",
       " 'send': 1545,\n",
       " 'meaning': 1105,\n",
       " 'find': 687,\n",
       " 'information': 916,\n",
       " 'put': 1388,\n",
       " 'mental': 1117,\n",
       " 'meeting': 1111,\n",
       " 'new': 1193,\n",
       " 'dr': 531,\n",
       " 'patient': 1287,\n",
       " 'tell': 1755,\n",
       " 'course': 412,\n",
       " 'back': 161,\n",
       " 'correct': 405,\n",
       " 'doctor': 521,\n",
       " 'now': 1214,\n",
       " 'set': 1557,\n",
       " 'happen': 810,\n",
       " 'incredible': 908,\n",
       " 'hard': 813,\n",
       " 'far': 655,\n",
       " 'picture': 1311,\n",
       " 'type': 1852,\n",
       " 'feel': 669,\n",
       " 'loose': 1051,\n",
       " 'something': 1623,\n",
       " 'others': 1254,\n",
       " 'what': 1934,\n",
       " 'right': 1478,\n",
       " 'wrong': 1987,\n",
       " 'who': 1945,\n",
       " 'would': 1982,\n",
       " 'highly': 841,\n",
       " 'recommend': 1431,\n",
       " 'enjoy': 582,\n",
       " 'high': 839,\n",
       " 'period': 1298,\n",
       " 'track': 1824,\n",
       " 'still': 1670,\n",
       " 'date': 453,\n",
       " 'way': 1920,\n",
       " 'instead': 923,\n",
       " 'that': 1768,\n",
       " 'from': 738,\n",
       " 'finish': 689,\n",
       " 'miss': 1135,\n",
       " 'beat': 181,\n",
       " 'never': 1191,\n",
       " 'grow': 797,\n",
       " 'tire': 1804,\n",
       " 'end': 575,\n",
       " 'unique': 1866,\n",
       " 'respect': 1464,\n",
       " 'there': 1778,\n",
       " 'may': 1101,\n",
       " 'first': 691,\n",
       " 'emotional': 571,\n",
       " 'where': 1939,\n",
       " 'true': 1840,\n",
       " 'richard': 1474,\n",
       " 'killer': 983,\n",
       " 'nurse': 1220,\n",
       " 'director': 508,\n",
       " 'low': 1062,\n",
       " 'budget': 254,\n",
       " 'full': 741,\n",
       " 'moon': 1149,\n",
       " 'regular': 1440,\n",
       " 'don': 525,\n",
       " 'adam': 46,\n",
       " 'whilst': 1943,\n",
       " 'seem': 1540,\n",
       " 'accurate': 37,\n",
       " 'portrayal': 1337,\n",
       " 'crime': 427,\n",
       " 'perhaps': 1297,\n",
       " 'real': 1419,\n",
       " 'terribly': 1761,\n",
       " 'care': 281,\n",
       " 'cheap': 312,\n",
       " 'cinematic': 331,\n",
       " 'serial': 1551,\n",
       " 'dirty': 509,\n",
       " 'brown': 249,\n",
       " 'star': 1656,\n",
       " 'fails': 641,\n",
       " 'present': 1353,\n",
       " 'horror': 863,\n",
       " 'irritate': 938,\n",
       " 'though': 1790,\n",
       " 'merely': 1119,\n",
       " 'occur': 1225,\n",
       " 'pretty': 1357,\n",
       " 'poor': 1331,\n",
       " 'view': 1893,\n",
       " 'event': 603,\n",
       " 'shot': 1577,\n",
       " 'evidence': 610,\n",
       " 'well': 1930,\n",
       " 'charles': 308,\n",
       " 'band': 167,\n",
       " 'ignore': 892,\n",
       " 'rule': 1499,\n",
       " 'feature': 668,\n",
       " 'fantasy': 654,\n",
       " 'monster': 1146,\n",
       " 'reality': 1422,\n",
       " 'introduce': 935,\n",
       " 'special': 1640,\n",
       " 'shadow': 1563,\n",
       " 'entertainment': 587,\n",
       " 'regret': 1439,\n",
       " 'jr': 967,\n",
       " 'danny': 450,\n",
       " 'also': 81,\n",
       " 'speak': 1639,\n",
       " 'badly': 164,\n",
       " 'era': 593,\n",
       " 'edit': 561,\n",
       " 'brutal': 251,\n",
       " 'camera': 270,\n",
       " 'home': 855,\n",
       " '3': 8,\n",
       " 'example': 613,\n",
       " 'manage': 1081,\n",
       " 'use': 1876,\n",
       " 'stand': 1654,\n",
       " 'played': 1320,\n",
       " 'will': 1952,\n",
       " 'less': 1022,\n",
       " 'direct': 506,\n",
       " 'girlfriend': 771,\n",
       " 'love': 1059,\n",
       " 'queen': 1390,\n",
       " 'upon': 1874,\n",
       " 'project': 1375,\n",
       " 'manner': 1083,\n",
       " 'everyone': 608,\n",
       " 'perfect': 1292,\n",
       " 'apartment': 117,\n",
       " 'constantly': 387,\n",
       " 'relate': 1441,\n",
       " 'fascinate': 657,\n",
       " 'always': 83,\n",
       " 'trip': 1838,\n",
       " 'main': 1072,\n",
       " 'physical': 1308,\n",
       " 'possible': 1342,\n",
       " 'anyway': 114,\n",
       " 'sometimes': 1624,\n",
       " 'succeed': 1701,\n",
       " 'fail': 640,\n",
       " 'etc': 599,\n",
       " 'formula': 720,\n",
       " 'allen': 74,\n",
       " 'artist': 132,\n",
       " 'old': 1235,\n",
       " 'emotion': 570,\n",
       " 'for': 711,\n",
       " 'award': 153,\n",
       " 'warm': 1913,\n",
       " 'happy': 812,\n",
       " 'hour': 869,\n",
       " 'either': 566,\n",
       " 'suffer': 1706,\n",
       " 'shock': 1573,\n",
       " 'billy': 203,\n",
       " 'lose': 1053,\n",
       " 'best': 198,\n",
       " 'please': 1322,\n",
       " 'musical': 1168,\n",
       " 'public': 1382,\n",
       " 'gene': 756,\n",
       " 'kelly': 976,\n",
       " 'performance': 1295,\n",
       " 'behind': 192,\n",
       " 'system': 1733,\n",
       " 'of': 1227,\n",
       " 'studio': 1690,\n",
       " 'hollywood': 854,\n",
       " 'stuck': 1688,\n",
       " 'world': 1979,\n",
       " 'yet': 1991,\n",
       " 'suit': 1709,\n",
       " 'brilliant': 241,\n",
       " 'frank': 727,\n",
       " 'certainly': 299,\n",
       " 'enjoyable': 583,\n",
       " 'need': 1187,\n",
       " 'today': 1807,\n",
       " 'audience': 147,\n",
       " 'unnecessary': 1871,\n",
       " 'longer': 1049,\n",
       " 'piece': 1312,\n",
       " 'case': 285,\n",
       " 'charm': 310,\n",
       " 'kiss': 987,\n",
       " 'me': 1103,\n",
       " 'necessary': 1186,\n",
       " 'control': 396,\n",
       " 'if': 891,\n",
       " 'pick': 1309,\n",
       " 'woman': 1971,\n",
       " 'on': 1236,\n",
       " 'town': 1822,\n",
       " 'leave': 1015,\n",
       " 'lucky': 1065,\n",
       " 'promise': 1376,\n",
       " 'strike': 1683,\n",
       " 'test': 1764,\n",
       " 'golden': 778,\n",
       " 'then': 1776,\n",
       " 'successful': 1703,\n",
       " 'hope': 859,\n",
       " 'average': 151,\n",
       " 'score': 1524,\n",
       " 'thrown': 1798,\n",
       " 'fun': 743,\n",
       " 'boy': 232,\n",
       " 'least': 1014,\n",
       " 'question': 1391,\n",
       " 'direction': 507,\n",
       " 'hold': 852,\n",
       " 'carry': 283,\n",
       " 'lovely': 1060,\n",
       " 'cinematography': 332,\n",
       " 'whenever': 1938,\n",
       " 'anyone': 112,\n",
       " 'music': 1167,\n",
       " 'song': 1628,\n",
       " 'natural': 1180,\n",
       " 'highlight': 840,\n",
       " 'cartoon': 284,\n",
       " 'adventure': 52,\n",
       " 'climax': 344,\n",
       " 'dance': 445,\n",
       " 'jerry': 954,\n",
       " 'masterpiece': 1095,\n",
       " 'number': 1218,\n",
       " 'career': 282,\n",
       " 'nice': 1196,\n",
       " 'fred': 730,\n",
       " 'wall': 1909,\n",
       " 'exactly': 612,\n",
       " 'sit': 1593,\n",
       " 'somehow': 1621,\n",
       " 'eventually': 604,\n",
       " 'rating': 1412,\n",
       " 'imagine': 896,\n",
       " 'creates': 421,\n",
       " 'style': 1697,\n",
       " 'entertain': 586,\n",
       " 'have': 819,\n",
       " 'decade': 463,\n",
       " 'his': 846,\n",
       " 'critic': 429,\n",
       " 'dialog': 498,\n",
       " 'earlier': 552,\n",
       " 'offer': 1228,\n",
       " 'close': 346,\n",
       " 'often': 1231,\n",
       " 'long': 1048,\n",
       " 'island': 939,\n",
       " 'york': 1992,\n",
       " 'city': 334,\n",
       " 'spy': 1652,\n",
       " 'thriller': 1795,\n",
       " 'to': 1806,\n",
       " 'surprise': 1721,\n",
       " 'manages': 1082,\n",
       " 'establish': 598,\n",
       " 'focus': 703,\n",
       " 'produce': 1367,\n",
       " 'original': 1250,\n",
       " 'international': 932,\n",
       " 'intrigue': 934,\n",
       " 'along': 79,\n",
       " 'current': 437,\n",
       " 'situation': 1596,\n",
       " 'state': 1658,\n",
       " 'war': 1912,\n",
       " 'element': 567,\n",
       " 'brought': 248,\n",
       " 'skill': 1598,\n",
       " 'political': 1330,\n",
       " 'worthy': 1981,\n",
       " 'mention': 1118,\n",
       " 'truly': 1841,\n",
       " 'fine': 688,\n",
       " 'vision': 1899,\n",
       " 'u': 1854,\n",
       " 'gorgeous': 783,\n",
       " 'figure': 679,\n",
       " 'parent': 1272,\n",
       " 'nearly': 1185,\n",
       " 'child': 319,\n",
       " 'away': 155,\n",
       " 'ca': 265,\n",
       " 'agree': 61,\n",
       " 'nothing': 1211,\n",
       " 'yeah': 1988,\n",
       " 'plan': 1316,\n",
       " 'behavior': 191,\n",
       " 'cute': 440,\n",
       " 'already': 80,\n",
       " 'technique': 1749,\n",
       " 'sort': 1631,\n",
       " 'impossible': 901,\n",
       " 'television': 1754,\n",
       " 'flat': 696,\n",
       " 'adaptation': 47,\n",
       " 'short': 1576,\n",
       " 'novel': 1213,\n",
       " 'henry': 831,\n",
       " 'indeed': 910,\n",
       " 'level': 1026,\n",
       " 'simple': 1586,\n",
       " 'although': 82,\n",
       " 'william': 1953,\n",
       " 'beautiful': 182,\n",
       " 'completely': 373,\n",
       " 'spirit': 1646,\n",
       " 'american': 87,\n",
       " 'writer': 1986,\n",
       " 'heroine': 835,\n",
       " 'attractive': 146,\n",
       " 'somewhat': 1625,\n",
       " 'intelligent': 926,\n",
       " 'her': 832,\n",
       " 'three': 1793,\n",
       " 'jennifer': 953,\n",
       " 'jason': 950,\n",
       " 'suddenly': 1705,\n",
       " 'incredibly': 909,\n",
       " 'becomes': 187,\n",
       " 'aware': 154,\n",
       " 'add': 48,\n",
       " 'trouble': 1839,\n",
       " 'background': 162,\n",
       " 'artistic': 133,\n",
       " 'decent': 464,\n",
       " 'standard': 1655,\n",
       " 'age': 58,\n",
       " 'anywhere': 115,\n",
       " 'thousand': 1792,\n",
       " 'page': 1265,\n",
       " 'particularly': 1278,\n",
       " 'yes': 1990,\n",
       " 'freedom': 732,\n",
       " 'utterly': 1880,\n",
       " 'art': 130,\n",
       " 'author': 149,\n",
       " 'smith': 1611,\n",
       " 'definitely': 470,\n",
       " 'moment': 1143,\n",
       " 'around': 128,\n",
       " 'involve': 936,\n",
       " 'surface': 1720,\n",
       " 'learn': 1013,\n",
       " 'series': 1552,\n",
       " 'circumstance': 333,\n",
       " 'surround': 1725,\n",
       " 'embarrass': 569,\n",
       " 'funny': 745,\n",
       " 'witty': 1969,\n",
       " 'genuine': 762,\n",
       " 'ask': 136,\n",
       " 'describe': 481,\n",
       " 'community': 366,\n",
       " 'quickly': 1393,\n",
       " 'jump': 970,\n",
       " 'immediately': 898,\n",
       " 'effect': 563,\n",
       " 'scream': 1526,\n",
       " 'mainly': 1073,\n",
       " 'none': 1204,\n",
       " 'witness': 1968,\n",
       " 'opportunity': 1245,\n",
       " 'shine': 1571,\n",
       " 'sadly': 1506,\n",
       " 'nobody': 1202,\n",
       " 'caught': 292,\n",
       " 'random': 1402,\n",
       " 'bring': 243,\n",
       " 'small': 1608,\n",
       " 'throughout': 1796,\n",
       " 'genuinely': 763,\n",
       " 'fell': 671,\n",
       " 'left': 1017,\n",
       " 'face': 637,\n",
       " 'cover': 413,\n",
       " 'box': 231,\n",
       " 'assume': 139,\n",
       " 'french': 733,\n",
       " 'cinema': 330,\n",
       " 'center': 295,\n",
       " 'create': 420,\n",
       " 'lead': 1010,\n",
       " 'confuse': 382,\n",
       " 'with': 1965,\n",
       " 'happens': 811,\n",
       " 'save': 1512,\n",
       " 'disaster': 513,\n",
       " 'attempt': 143,\n",
       " 'force': 712,\n",
       " 'group': 796,\n",
       " 'hole': 853,\n",
       " 'minor': 1132,\n",
       " 'detail': 491,\n",
       " 'rare': 1407,\n",
       " 'actually': 45,\n",
       " 'central': 296,\n",
       " 'begin': 190,\n",
       " 'suppose': 1716,\n",
       " 'discover': 514,\n",
       " 'share': 1567,\n",
       " 'obviously': 1223,\n",
       " 'actual': 44,\n",
       " 'garbage': 752,\n",
       " 'us': 1875,\n",
       " 'storyline': 1676,\n",
       " 'premise': 1351,\n",
       " 'aid': 63,\n",
       " 'fill': 680,\n",
       " 'while': 1942,\n",
       " 'paper': 1271,\n",
       " 'ice': 886,\n",
       " 'held': 828,\n",
       " 'rather': 1411,\n",
       " 'difficult': 504,\n",
       " 'genre': 761,\n",
       " 'master': 1094,\n",
       " 'travel': 1832,\n",
       " 'especially': 596,\n",
       " 'amount': 89,\n",
       " 'account': 36,\n",
       " 'different': 503,\n",
       " 'five': 693,\n",
       " 'head': 821,\n",
       " 'final': 684,\n",
       " 'overall': 1260,\n",
       " 'mood': 1148,\n",
       " 'change': 303,\n",
       " 'oh': 1232,\n",
       " 'wish': 1962,\n",
       " 'probably': 1364,\n",
       " 'disappointed': 511,\n",
       " 'opening': 1242,\n",
       " 'due': 547,\n",
       " '2': 6,\n",
       " 'kong': 992,\n",
       " 'place': 1314,\n",
       " 'pass': 1282,\n",
       " 'dvd': 550,\n",
       " 'subject': 1698,\n",
       " 'else': 568,\n",
       " 'suggest': 1707,\n",
       " 'club': 348,\n",
       " 'program': 1373,\n",
       " 'air': 65,\n",
       " 'million': 1129,\n",
       " 'hate': 817,\n",
       " 'lie': 1028,\n",
       " 'leader': 1011,\n",
       " 'christian': 326,\n",
       " 'news': 1194,\n",
       " 'convince': 398,\n",
       " 'blame': 208,\n",
       " 'mother': 1156,\n",
       " 'religious': 1446,\n",
       " 'fake': 646,\n",
       " 'segment': 1542,\n",
       " 'fox': 724,\n",
       " 'decision': 467,\n",
       " 'whatever': 1935,\n",
       " 'damn': 443,\n",
       " 'hurt': 883,\n",
       " 'continue': 393,\n",
       " 'stick': 1669,\n",
       " '100': 2,\n",
       " 'become': 186,\n",
       " 'member': 1112,\n",
       " 'mine': 1131,\n",
       " 'buy': 262,\n",
       " 'company': 367,\n",
       " 'government': 786,\n",
       " 'abuse': 30,\n",
       " 'friend': 735,\n",
       " 'order': 1248,\n",
       " 'god': 776,\n",
       " 'host': 866,\n",
       " 'willing': 1955,\n",
       " 'read': 1416,\n",
       " 'viewer': 1894,\n",
       " 'color': 353,\n",
       " 'supposedly': 1717,\n",
       " 'various': 1885,\n",
       " 'claim': 335,\n",
       " 'knowledge': 991,\n",
       " 'appear': 121,\n",
       " 'honestly': 857,\n",
       " 'seriously': 1554,\n",
       " 'record': 1432,\n",
       " 'wonder': 1972,\n",
       " 'sad': 1505,\n",
       " 'realize': 1423,\n",
       " 'want': 1911,\n",
       " 'attack': 142,\n",
       " 'result': 1467,\n",
       " 'consider': 385,\n",
       " 'weapon': 1924,\n",
       " 'department': 477,\n",
       " 'doubt': 528,\n",
       " 'kept': 977,\n",
       " 'statement': 1659,\n",
       " 'sexual': 1561,\n",
       " 'thanks': 1767,\n",
       " 'born': 225,\n",
       " 'president': 1354,\n",
       " 'soon': 1629,\n",
       " 'forget': 716,\n",
       " 'support': 1715,\n",
       " 'very': 1888,\n",
       " 'forgotten': 717,\n",
       " 'speech': 1642,\n",
       " 'treat': 1833,\n",
       " 'nazi': 1183,\n",
       " 'compare': 368,\n",
       " 'almost': 77,\n",
       " 'ran': 1401,\n",
       " 'among': 88,\n",
       " 'party': 1280,\n",
       " 'pathetic': 1286,\n",
       " 'toward': 1820,\n",
       " 'earth': 554,\n",
       " 'unfortunately': 1864,\n",
       " 'evil': 611,\n",
       " 'clean': 338,\n",
       " 'living': 1041,\n",
       " 'dangerous': 448,\n",
       " 'certain': 298,\n",
       " 'middle': 1124,\n",
       " 'faith': 645,\n",
       " 'front': 739,\n",
       " 'all': 73,\n",
       " 'thank': 1766,\n",
       " 'room': 1493,\n",
       " 'zero': 1997,\n",
       " 'inspire': 921,\n",
       " 'recent': 1428,\n",
       " 'wave': 1919,\n",
       " 'school': 1520,\n",
       " 'unlike': 1870,\n",
       " 'shoot': 1574,\n",
       " 'answer': 107,\n",
       " '20': 7,\n",
       " 'hill': 843,\n",
       " 'street': 1680,\n",
       " 'blue': 215,\n",
       " 'episode': 591,\n",
       " 'bear': 180,\n",
       " 'length': 1020,\n",
       " 'enough': 584,\n",
       " 'skip': 1600,\n",
       " 'entirely': 589,\n",
       " 'ahead': 62,\n",
       " 'hospital': 865,\n",
       " 'paul': 1289,\n",
       " 'f': 636,\n",
       " 'ryan': 1503,\n",
       " 'usually': 1878,\n",
       " 'sign': 1582,\n",
       " 'mean': 1104,\n",
       " 'lack': 994,\n",
       " 'dramatic': 534,\n",
       " 'because': 185,\n",
       " 'strength': 1681,\n",
       " 'execute': 619,\n",
       " 'edge': 560,\n",
       " 'logic': 1046,\n",
       " 'leaf': 1012,\n",
       " 'cry': 433,\n",
       " 'why': 1948,\n",
       " 'combination': 354,\n",
       " 'kind': 984,\n",
       " 'sweet': 1729,\n",
       " 'protagonist': 1377,\n",
       " 'teen': 1751,\n",
       " 'family': 650,\n",
       " 'girl': 770,\n",
       " 'detective': 492,\n",
       " 'tie': 1800,\n",
       " 'hardly': 814,\n",
       " 'idea': 887,\n",
       " 'easily': 555,\n",
       " 'cliché': 342,\n",
       " 'engage': 579,\n",
       " 'convincing': 399,\n",
       " 'match': 1096,\n",
       " 'slowly': 1607,\n",
       " 'inside': 919,\n",
       " 'line': 1035,\n",
       " 'tear': 1747,\n",
       " 'she': 1568,\n",
       " 'connection': 384,\n",
       " 'progress': 1374,\n",
       " 'ultimately': 1857,\n",
       " 'actress': 43,\n",
       " 'awful': 157,\n",
       " 'theater': 1771,\n",
       " 'ten': 1756,\n",
       " 'eye': 635,\n",
       " 'deserves': 485,\n",
       " 'unless': 1869,\n",
       " 'sleep': 1604,\n",
       " 'be': 178,\n",
       " 'warn': 1914,\n",
       " 'comment': 361,\n",
       " 'pretend': 1355,\n",
       " 'australian': 148,\n",
       " 'crappy': 417,\n",
       " 'tone': 1811,\n",
       " 'totally': 1817,\n",
       " 'heart': 824,\n",
       " 'tom': 1810,\n",
       " 'quiet': 1394,\n",
       " 'total': 1816,\n",
       " 'martin': 1091,\n",
       " 'twist': 1850,\n",
       " 'walk': 1908,\n",
       " 'beauty': 184,\n",
       " 'famous': 651,\n",
       " 'remarkable': 1450,\n",
       " 'social': 1615,\n",
       " 'mark': 1085,\n",
       " 'weak': 1923,\n",
       " 'jones': 964,\n",
       " 'large': 999,\n",
       " 'john': 960,\n",
       " 'patrick': 1288,\n",
       " 'king': 986,\n",
       " 'demand': 475,\n",
       " 'affair': 54,\n",
       " 'lover': 1061,\n",
       " 'apart': 116,\n",
       " 'crowd': 432,\n",
       " 'business': 260,\n",
       " 'ben': 196,\n",
       " 'makeup': 1078,\n",
       " 'light': 1030,\n",
       " 'concerned': 378,\n",
       " 'memorable': 1113,\n",
       " 'major': 1074,\n",
       " 'capture': 278,\n",
       " 'condition': 380,\n",
       " 'message': 1121,\n",
       " 'price': 1359,\n",
       " 'summer': 1711,\n",
       " 'individual': 913,\n",
       " 'desire': 487,\n",
       " 'aside': 135,\n",
       " 'chinese': 322,\n",
       " 'lewis': 1027,\n",
       " 's': 1504,\n",
       " 'an': 91,\n",
       " 'truth': 1843,\n",
       " 'found': 722,\n",
       " 'once': 1237,\n",
       " 'scare': 1516,\n",
       " 'gore': 782,\n",
       " 'after': 56,\n",
       " 'base': 172,\n",
       " 'book': 222,\n",
       " 'theory': 1777,\n",
       " 'al': 67,\n",
       " 'planet': 1318,\n",
       " 'without': 1967,\n",
       " 'documentary': 522,\n",
       " 'filmmaker': 682,\n",
       " 'footage': 709,\n",
       " 'ie': 890,\n",
       " 'deep': 468,\n",
       " 'outside': 1258,\n",
       " 'sea': 1530,\n",
       " 'open': 1241,\n",
       " 'bbc': 177,\n",
       " 'admit': 50,\n",
       " 'early': 553,\n",
       " 'dream': 538,\n",
       " 'study': 1691,\n",
       " 'generally': 758,\n",
       " 'fact': 638,\n",
       " 'rest': 1466,\n",
       " 'opinion': 1244,\n",
       " 'latter': 1004,\n",
       " 'watchable': 1917,\n",
       " 'le': 1009,\n",
       " 'cheat': 313,\n",
       " 'strange': 1678,\n",
       " 'de': 458,\n",
       " 'villain': 1896,\n",
       " 'exist': 620,\n",
       " 'anymore': 111,\n",
       " 'bunch': 258,\n",
       " 'adult': 51,\n",
       " 'beyond': 200,\n",
       " 'stop': 1673,\n",
       " 'culture': 435,\n",
       " 'when': 1937,\n",
       " 'married': 1088,\n",
       " 'smile': 1610,\n",
       " 'priest': 1360,\n",
       " 'disturb': 519,\n",
       " 'festival': 675,\n",
       " 'guard': 798,\n",
       " 'drawn': 536,\n",
       " 'class': 336,\n",
       " 'reason': 1425,\n",
       " 'humorous': 878,\n",
       " 'student': 1689,\n",
       " 'surprised': 1722,\n",
       " 'rarely': 1408,\n",
       " 'strong': 1684,\n",
       " 'camp': 271,\n",
       " 'fast': 659,\n",
       " 'form': 718,\n",
       " 'bond': 221,\n",
       " 'unusual': 1873,\n",
       " 'reveal': 1469,\n",
       " 'normally': 1207,\n",
       " 'weird': 1928,\n",
       " 'toy': 1823,\n",
       " 'ann': 102,\n",
       " ...}"
      ]
     },
     "execution_count": 5,
     "metadata": {},
     "output_type": "execute_result"
    }
   ],
   "source": [
    "# map terms to feature index\n",
    "reviews_CV.vocabulary_"
   ]
  },
  {
   "cell_type": "code",
   "execution_count": 6,
   "metadata": {},
   "outputs": [
    {
     "data": {
      "text/plain": [
       "(40000, 2000)"
      ]
     },
     "execution_count": 6,
     "metadata": {},
     "output_type": "execute_result"
    }
   ],
   "source": [
    "# 40.000 vectors with 2000 features each\n",
    "review_train_counts.shape"
   ]
  },
  {
   "cell_type": "code",
   "execution_count": 7,
   "metadata": {
    "scrolled": true
   },
   "outputs": [
    {
     "data": {
      "text/plain": [
       "array([[0, 0, 0, ..., 0, 0, 0],\n",
       "       [0, 1, 0, ..., 0, 0, 0],\n",
       "       [0, 0, 0, ..., 0, 0, 0],\n",
       "       ...,\n",
       "       [0, 0, 0, ..., 0, 0, 0],\n",
       "       [0, 0, 0, ..., 0, 0, 0],\n",
       "       [0, 0, 0, ..., 0, 0, 0]], dtype=int64)"
      ]
     },
     "execution_count": 7,
     "metadata": {},
     "output_type": "execute_result"
    }
   ],
   "source": [
    "#print(review_train_counts)\n",
    "review_train_counts.toarray()"
   ]
  },
  {
   "cell_type": "markdown",
   "metadata": {},
   "source": [
    "## Feature Extraction 2 - TF-IDF"
   ]
  },
  {
   "cell_type": "code",
   "execution_count": 8,
   "metadata": {},
   "outputs": [],
   "source": [
    "from sklearn.feature_extraction.text import TfidfTransformer\n",
    "\n",
    "reviews_tfidf = TfidfTransformer()\n",
    "review_train_tfidf = reviews_tfidf.fit_transform(review_train_counts)"
   ]
  },
  {
   "cell_type": "code",
   "execution_count": 9,
   "metadata": {
    "scrolled": false
   },
   "outputs": [
    {
     "data": {
      "text/plain": [
       "array([[0.        , 0.        , 0.        , ..., 0.        , 0.        ,\n",
       "        0.        ],\n",
       "       [0.        , 0.14002965, 0.        , ..., 0.        , 0.        ,\n",
       "        0.        ],\n",
       "       [0.        , 0.        , 0.        , ..., 0.        , 0.        ,\n",
       "        0.        ],\n",
       "       ...,\n",
       "       [0.        , 0.        , 0.        , ..., 0.        , 0.        ,\n",
       "        0.        ],\n",
       "       [0.        , 0.        , 0.        , ..., 0.        , 0.        ,\n",
       "        0.        ],\n",
       "       [0.        , 0.        , 0.        , ..., 0.        , 0.        ,\n",
       "        0.        ]])"
      ]
     },
     "execution_count": 9,
     "metadata": {},
     "output_type": "execute_result"
    }
   ],
   "source": [
    "#print(review_train_tfidf)\n",
    "review_train_tfidf.toarray()"
   ]
  },
  {
   "cell_type": "code",
   "execution_count": 10,
   "metadata": {},
   "outputs": [],
   "source": [
    "# open rev_test file and put into list\n",
    "rev_test = []\n",
    "file = io.open(\"rev_test.csv\", mode=\"r\", encoding=\"utf-8\") \n",
    "for line in file:\n",
    "    rev_test.append(line)\n",
    "file.close()\n",
    "\n",
    "# transform test data into TF-IDF\n",
    "review_test_counts = reviews_CV.transform(rev_test)\n",
    "review_test_tfidf = reviews_tfidf.transform(review_test_counts)"
   ]
  },
  {
   "cell_type": "code",
   "execution_count": 11,
   "metadata": {},
   "outputs": [],
   "source": [
    "# open label train and test file and put into lists\n",
    "label_train = []\n",
    "file = io.open(\"label_train.csv\", mode=\"r\", encoding=\"utf-8\") \n",
    "for line in file:\n",
    "    label_train.append(line)\n",
    "file.close()\n",
    "\n",
    "label_test = []\n",
    "file = io.open(\"label_test.csv\", mode=\"r\", encoding=\"utf-8\") \n",
    "for line in file:\n",
    "    label_test.append(line)\n",
    "file.close()"
   ]
  },
  {
   "cell_type": "markdown",
   "metadata": {},
   "source": [
    "## GridSearch on Multinomial Naive Bayes, Decision Tree and Support Vector Machine\n",
    "### Finds best hyperparameters to train with"
   ]
  },
  {
   "cell_type": "code",
   "execution_count": 12,
   "metadata": {},
   "outputs": [],
   "source": [
    "from sklearn.model_selection import GridSearchCV"
   ]
  },
  {
   "cell_type": "markdown",
   "metadata": {},
   "source": [
    "### Multinomial Naive Bayes"
   ]
  },
  {
   "cell_type": "code",
   "execution_count": 15,
   "metadata": {},
   "outputs": [
    {
     "name": "stderr",
     "output_type": "stream",
     "text": [
      "C:\\Users\\saray\\Anaconda3\\lib\\site-packages\\sklearn\\naive_bayes.py:485: UserWarning: alpha too small will result in numeric errors, setting alpha = 1.0e-10\n",
      "  'setting alpha = %.1e' % _ALPHA_MIN)\n"
     ]
    },
    {
     "data": {
      "text/plain": [
       "GridSearchCV(cv=5, error_score='raise-deprecating',\n",
       "             estimator=MultinomialNB(alpha=1.0, class_prior=None,\n",
       "                                     fit_prior=True),\n",
       "             iid='warn', n_jobs=-1, param_grid={'alpha': [1.0, 0]},\n",
       "             pre_dispatch='2*n_jobs', refit=True, return_train_score=False,\n",
       "             scoring=None, verbose=0)"
      ]
     },
     "execution_count": 15,
     "metadata": {},
     "output_type": "execute_result"
    }
   ],
   "source": [
    "from sklearn.naive_bayes import MultinomialNB\n",
    "params_MNB = {\"alpha\":[1.0, 0]} #Additive (Laplace/Lidstone) smoothing parameter (0 for no smoothing)\n",
    "\n",
    "MNB = MultinomialNB()\n",
    "\n",
    "gs_MNB = GridSearchCV(MNB, params_MNB, cv=5, n_jobs=-1) #-1 to use all processors\n",
    "gs_MNB.fit(review_train_tfidf, label_train)"
   ]
  },
  {
   "cell_type": "code",
   "execution_count": 16,
   "metadata": {
    "scrolled": true
   },
   "outputs": [
    {
     "name": "stdout",
     "output_type": "stream",
     "text": [
      "Best Estimator: MultinomialNB(alpha=0, class_prior=None, fit_prior=True) \n",
      "Best Score: 0.8457 \n",
      "Best Parameters: {'alpha': 0}\n"
     ]
    }
   ],
   "source": [
    "print(\"Best Estimator: %s \\nBest Score: %s \\nBest Parameters: %s\" %\n",
    "    (gs_MNB.best_estimator_, gs_MNB.best_score_, gs_MNB.best_params_))"
   ]
  },
  {
   "cell_type": "markdown",
   "metadata": {},
   "source": [
    "### Decision Tree"
   ]
  },
  {
   "cell_type": "code",
   "execution_count": 19,
   "metadata": {
    "scrolled": false
   },
   "outputs": [
    {
     "data": {
      "text/plain": [
       "GridSearchCV(cv=5, error_score='raise-deprecating',\n",
       "             estimator=DecisionTreeClassifier(class_weight=None,\n",
       "                                              criterion='gini', max_depth=None,\n",
       "                                              max_features=None,\n",
       "                                              max_leaf_nodes=None,\n",
       "                                              min_impurity_decrease=0.0,\n",
       "                                              min_impurity_split=None,\n",
       "                                              min_samples_leaf=1,\n",
       "                                              min_samples_split=2,\n",
       "                                              min_weight_fraction_leaf=0.0,\n",
       "                                              presort=False, random_state=None,\n",
       "                                              splitter='best'),\n",
       "             iid='warn', n_jobs=-1,\n",
       "             param_grid={'criterion': ['gini', 'entropy'],\n",
       "                         'max_depth': [None, 2, 5, 10],\n",
       "                         'max_leaf_nodes': [None, 5, 10, 20],\n",
       "                         'min_samples_split': [2, 10, 20]},\n",
       "             pre_dispatch='2*n_jobs', refit=True, return_train_score=False,\n",
       "             scoring=None, verbose=0)"
      ]
     },
     "execution_count": 19,
     "metadata": {},
     "output_type": "execute_result"
    }
   ],
   "source": [
    "from sklearn.tree import DecisionTreeClassifier\n",
    "\n",
    "params_DT = {\"criterion\": [\"gini\", \"entropy\"],   #measures the quality of a split \n",
    "             \"min_samples_split\": [2, 10, 20],   #default 2, minimum number of samples required to split internal node\n",
    "             \"max_depth\": [None, 2, 5, 10],      #maximum depth of tree, default None     \n",
    "             \"max_leaf_nodes\": [None, 5, 10, 20]}\n",
    "\n",
    "DT = DecisionTreeClassifier()\n",
    "\n",
    "gs_DT = GridSearchCV(DT, params_DT, cv=5, n_jobs=-1) #-1 to use all processors\n",
    "gs_DT.fit(review_train_tfidf, label_train)"
   ]
  },
  {
   "cell_type": "code",
   "execution_count": 20,
   "metadata": {
    "scrolled": true
   },
   "outputs": [
    {
     "name": "stdout",
     "output_type": "stream",
     "text": [
      "Best Estimator: DecisionTreeClassifier(class_weight=None, criterion='gini', max_depth=None,\n",
      "                       max_features=None, max_leaf_nodes=20,\n",
      "                       min_impurity_decrease=0.0, min_impurity_split=None,\n",
      "                       min_samples_leaf=1, min_samples_split=2,\n",
      "                       min_weight_fraction_leaf=0.0, presort=False,\n",
      "                       random_state=None, splitter='best') \n",
      "Best Score: 0.740175 \n",
      "Best Parameters: {'criterion': 'gini', 'max_depth': None, 'max_leaf_nodes': 20, 'min_samples_split': 2}\n"
     ]
    }
   ],
   "source": [
    "print(\"Best Estimator: %s \\nBest Score: %s \\nBest Parameters: %s\" %\n",
    "    (gs_DT.best_estimator_, gs_DT.best_score_, gs_DT.best_params_))"
   ]
  },
  {
   "cell_type": "markdown",
   "metadata": {},
   "source": [
    "### Support Vector Machine"
   ]
  },
  {
   "cell_type": "code",
   "execution_count": null,
   "metadata": {},
   "outputs": [],
   "source": [
    "# Gridsearch with SVM not working, therefore only 4 different SVM kernels will be looked at separately \n",
    "\n",
    "# from sklearn.svm import SVC\n",
    "# params_SVM = {\"C\": [1, 10, 100, 1000],                         #regularization parameter\n",
    "#               \"kernel\": [\"rbf\", \"linear\", \"poly\", \"sigmoid\"],  #kernel type to be used for the hyperplane\n",
    "#               \"gamma\": [0.001, 0.01, 0.1, 1]}                  #kernel coefficient, not used for linear\n",
    "                                \n",
    "# SVM = SVC()\n",
    "\n",
    "# gs_SVM = GridSearchCV(SVM, params_SVM, cv=5, n_jobs=-1) #-1 to use all processors\n",
    "# gs_SVM.fit(review_train_tfidf, label_train)"
   ]
  },
  {
   "cell_type": "code",
   "execution_count": null,
   "metadata": {},
   "outputs": [],
   "source": [
    "# print(\"Best Estimator: %s \\nBest Score: %s \\nBest Parameters: %s\" %\n",
    "#     (gs_SVM.best_estimator_, gs_SVM.best_score_, gs_SVM.best_params_))"
   ]
  },
  {
   "cell_type": "code",
   "execution_count": 13,
   "metadata": {
    "scrolled": true
   },
   "outputs": [
    {
     "name": "stderr",
     "output_type": "stream",
     "text": [
      "C:\\Users\\saray\\Anaconda3\\lib\\site-packages\\sklearn\\svm\\base.py:193: FutureWarning: The default value of gamma will change from 'auto' to 'scale' in version 0.22 to account better for unscaled features. Set gamma explicitly to 'auto' or 'scale' to avoid this warning.\n",
      "  \"avoid this warning.\", FutureWarning)\n"
     ]
    },
    {
     "data": {
      "text/plain": [
       "SVC(C=1.0, cache_size=200, class_weight=None, coef0=0.0,\n",
       "    decision_function_shape='ovr', degree=3, gamma='auto_deprecated',\n",
       "    kernel='rbf', max_iter=-1, probability=False, random_state=None,\n",
       "    shrinking=True, tol=0.001, verbose=False)"
      ]
     },
     "execution_count": 13,
     "metadata": {},
     "output_type": "execute_result"
    }
   ],
   "source": [
    "from sklearn.svm import SVC\n",
    "\n",
    "# kernel=\"rbf\" (is the default), C=1.0, gamma=\"scale\"\n",
    "# kernels \"poly\" and \"sigmoid\" produce the exact same results as the default \"rbf\"\n",
    "SVM_rbf = SVC()\n",
    "SVM_rbf.fit(review_train_tfidf, label_train)"
   ]
  },
  {
   "cell_type": "code",
   "execution_count": 32,
   "metadata": {},
   "outputs": [
    {
     "data": {
      "text/plain": [
       "SVC(C=1.0, cache_size=200, class_weight=None, coef0=0.0,\n",
       "    decision_function_shape='ovr', degree=3, gamma='auto_deprecated',\n",
       "    kernel='linear', max_iter=-1, probability=False, random_state=None,\n",
       "    shrinking=True, tol=0.001, verbose=False)"
      ]
     },
     "execution_count": 32,
     "metadata": {},
     "output_type": "execute_result"
    }
   ],
   "source": [
    "# kernel=\"linear\", C=1.0, gamma=\"scale\"\n",
    "SVM_linear = SVC(kernel='linear')\n",
    "SVM_linear.fit(review_train_tfidf, label_train)"
   ]
  },
  {
   "cell_type": "code",
   "execution_count": 40,
   "metadata": {},
   "outputs": [
    {
     "name": "stderr",
     "output_type": "stream",
     "text": [
      "C:\\Users\\saray\\Anaconda3\\lib\\site-packages\\sklearn\\model_selection\\_split.py:1978: FutureWarning: The default value of cv will change from 3 to 5 in version 0.22. Specify it explicitly to silence this warning.\n",
      "  warnings.warn(CV_WARNING, FutureWarning)\n"
     ]
    },
    {
     "name": "stdout",
     "output_type": "stream",
     "text": [
      "mean: 0.876 (std: 0.003)\n",
      "\n"
     ]
    }
   ],
   "source": [
    "from sklearn.model_selection import  cross_val_score\n",
    "\n",
    "# for SVM , since no grid search was performed, cross validation is done separately here\n",
    "# mean accuracy and standard deviation are printed\n",
    "scores = cross_val_score(SVM_linear, review_train_tfidf, label_train)\n",
    "print(\"mean: {:.3f} (std: {:.3f})\".format(scores.mean(),\n",
    "                                          scores.std()),\n",
    "                                          end=\"\\n\\n\" )"
   ]
  },
  {
   "cell_type": "markdown",
   "metadata": {},
   "source": [
    "## Perform testing"
   ]
  },
  {
   "cell_type": "markdown",
   "metadata": {},
   "source": [
    "### Classifiers are now fit with best hyperparameters"
   ]
  },
  {
   "cell_type": "code",
   "execution_count": 43,
   "metadata": {},
   "outputs": [],
   "source": [
    "predMNB = gs_MNB.predict(review_test_tfidf)"
   ]
  },
  {
   "cell_type": "code",
   "execution_count": 50,
   "metadata": {},
   "outputs": [],
   "source": [
    "predDT = gs_DT.predict(review_test_tfidf)"
   ]
  },
  {
   "cell_type": "code",
   "execution_count": null,
   "metadata": {},
   "outputs": [],
   "source": [
    "predSVM_rbf = SVM_rbf.predict(review_test_tfidf)"
   ]
  },
  {
   "cell_type": "code",
   "execution_count": 38,
   "metadata": {},
   "outputs": [],
   "source": [
    "predSVM_linear = SVM_linear.predict(review_test_tfidf)"
   ]
  },
  {
   "cell_type": "markdown",
   "metadata": {},
   "source": [
    "## Evaluation "
   ]
  },
  {
   "cell_type": "markdown",
   "metadata": {},
   "source": [
    "### Confusion Matrix"
   ]
  },
  {
   "cell_type": "code",
   "execution_count": 28,
   "metadata": {
    "scrolled": true
   },
   "outputs": [
    {
     "data": {
      "text/plain": [
       "array([[4142,  802],\n",
       "       [ 756, 4300]], dtype=int64)"
      ]
     },
     "execution_count": 28,
     "metadata": {},
     "output_type": "execute_result"
    }
   ],
   "source": [
    "# TrueNegatives [0][0]  /  FalsePositives [0][1]  /  FalseNegatives [1][0]  /  TruePositives [1][1]\n",
    "from sklearn.metrics import confusion_matrix\n",
    "\n",
    "# Multinomial Naive Bayes\n",
    "confusion_matrix(label_test, predMNB)"
   ]
  },
  {
   "cell_type": "code",
   "execution_count": 31,
   "metadata": {
    "scrolled": true
   },
   "outputs": [
    {
     "data": {
      "text/plain": [
       "array([[3424, 1520],\n",
       "       [1018, 4038]], dtype=int64)"
      ]
     },
     "execution_count": 31,
     "metadata": {},
     "output_type": "execute_result"
    }
   ],
   "source": [
    "# Decision Tree\n",
    "confusion_matrix(label_test, predDT)"
   ]
  },
  {
   "cell_type": "code",
   "execution_count": 15,
   "metadata": {},
   "outputs": [
    {
     "data": {
      "text/plain": [
       "array([[4944,    0],\n",
       "       [5056,    0]], dtype=int64)"
      ]
     },
     "execution_count": 15,
     "metadata": {},
     "output_type": "execute_result"
    }
   ],
   "source": [
    "# SVM\n",
    "# kernels \"poly\" and \"sigmoid\" produce the exact same results as the default \"rbf\"\n",
    "confusion_matrix(label_test, predSVM_rbf) "
   ]
  },
  {
   "cell_type": "code",
   "execution_count": 20,
   "metadata": {},
   "outputs": [
    {
     "data": {
      "text/plain": [
       "array([[4285,  659],\n",
       "       [ 586, 4470]], dtype=int64)"
      ]
     },
     "execution_count": 20,
     "metadata": {},
     "output_type": "execute_result"
    }
   ],
   "source": [
    "# SVM\n",
    "# kernel \"linear\"\n",
    "confusion_matrix(label_test, predSVM_linear)"
   ]
  },
  {
   "cell_type": "markdown",
   "metadata": {},
   "source": [
    "### Accuracy, Precision, Recall, F1-Score"
   ]
  },
  {
   "cell_type": "code",
   "execution_count": 37,
   "metadata": {},
   "outputs": [
    {
     "name": "stdout",
     "output_type": "stream",
     "text": [
      "Accurary MNB: 0.8442 \n",
      "Scores macro: (0.8442290143466105, 0.8441289275326698, 0.8441610963760994, None) \n",
      "Scores micro: (0.8442, 0.8442, 0.8442, None) \n",
      "Scores weighted: (0.8442130849014126, 0.8442, 0.8441886736284847, None) \n",
      "Scores pos: (0.8428067424539396, 0.8504746835443038, 0.846623351053357, None) \n",
      "Scores neg: (0.8456512862392813, 0.8377831715210357, 0.8416988416988418, None)\n"
     ]
    }
   ],
   "source": [
    "from sklearn.metrics import precision_recall_fscore_support\n",
    "from sklearn.metrics import accuracy_score\n",
    "\n",
    "# Multinomial Naive Bayes\n",
    "print(\"Accurary MNB: %s \\nScores macro: %s \\nScores micro: %s \\nScores weighted: %s \\nScores pos: %s \\nScores neg: %s\" \n",
    "      %(accuracy_score(label_test, predMNB),\n",
    "      precision_recall_fscore_support(label_test, predMNB, average='macro'), \n",
    "      precision_recall_fscore_support(label_test, predMNB, average='micro'),\n",
    "      precision_recall_fscore_support(label_test, predMNB, average='weighted'),\n",
    "      precision_recall_fscore_support(label_test, predMNB, average='binary', pos_label='pos\\n'),\n",
    "      precision_recall_fscore_support(label_test, predMNB, average='binary', pos_label='neg\\n')))"
   ]
  },
  {
   "cell_type": "code",
   "execution_count": 35,
   "metadata": {},
   "outputs": [
    {
     "name": "stdout",
     "output_type": "stream",
     "text": [
      "Accurary DT: 0.7462 \n",
      "Scores macro: (0.748672142114291, 0.7456058487976731, 0.7452395633442251, None) \n",
      "Scores micro: (0.7462, 0.7462, 0.7461999999999999, None) \n",
      "Scores weighted: (0.7484240418304194, 0.7462, 0.7454147570013046, None) \n",
      "Scores pos: (0.7265203310543361, 0.7986550632911392, 0.7608818541548897, None) \n",
      "Scores neg: (0.7708239531742458, 0.6925566343042071, 0.7295972725335605, None)\n"
     ]
    }
   ],
   "source": [
    "# Decision Tree\n",
    "print(\"Accurary DT: %s \\nScores macro: %s \\nScores micro: %s \\nScores weighted: %s \\nScores pos: %s \\nScores neg: %s\" \n",
    "      %(accuracy_score(label_test, predDT),\n",
    "      precision_recall_fscore_support(label_test, predDT, average='macro'), \n",
    "      precision_recall_fscore_support(label_test, predDT, average='micro'),\n",
    "      precision_recall_fscore_support(label_test, predDT, average='weighted'),\n",
    "      precision_recall_fscore_support(label_test, predDT, average='binary', pos_label='pos\\n'),\n",
    "      precision_recall_fscore_support(label_test, predDT, average='binary', pos_label='neg\\n')))"
   ]
  },
  {
   "cell_type": "code",
   "execution_count": 16,
   "metadata": {},
   "outputs": [
    {
     "name": "stdout",
     "output_type": "stream",
     "text": [
      "Accurary SVM: 0.4944 \n",
      "Scores macro: (0.2472, 0.5, 0.33083511777301927, None) \n",
      "Scores micro: (0.4944, 0.4944, 0.4944, None) \n",
      "Scores weighted: (0.24443136, 0.4944, 0.3271297644539614, None) \n",
      "Scores pos: (0.0, 0.0, 0.0, None) \n",
      "Scores neg: (0.4944, 1.0, 0.6616702355460385, None)\n"
     ]
    },
    {
     "name": "stderr",
     "output_type": "stream",
     "text": [
      "C:\\Users\\saray\\Anaconda3\\lib\\site-packages\\sklearn\\metrics\\classification.py:1437: UndefinedMetricWarning: Precision and F-score are ill-defined and being set to 0.0 in labels with no predicted samples.\n",
      "  'precision', 'predicted', average, warn_for)\n",
      "C:\\Users\\saray\\Anaconda3\\lib\\site-packages\\sklearn\\metrics\\classification.py:1437: UndefinedMetricWarning: Precision and F-score are ill-defined and being set to 0.0 due to no predicted samples.\n",
      "  'precision', 'predicted', average, warn_for)\n"
     ]
    }
   ],
   "source": [
    "# SVM rbf (as well as poly and sigmoid)\n",
    "print(\"Accurary SVM: %s \\nScores macro: %s \\nScores micro: %s \\nScores weighted: %s \\nScores pos: %s \\nScores neg: %s\" \n",
    "      %(accuracy_score(label_test, predSVM_rbf),\n",
    "      precision_recall_fscore_support(label_test, predSVM_rbf, average='macro'), \n",
    "      precision_recall_fscore_support(label_test, predSVM_rbf, average='micro'),\n",
    "      precision_recall_fscore_support(label_test, predSVM_rbf, average='weighted'),\n",
    "      precision_recall_fscore_support(label_test, predSVM_rbf, average='binary', pos_label='pos\\n'),\n",
    "      precision_recall_fscore_support(label_test, predSVM_rbf, average='binary', pos_label='neg\\n')))"
   ]
  },
  {
   "cell_type": "code",
   "execution_count": 21,
   "metadata": {},
   "outputs": [
    {
     "name": "stdout",
     "output_type": "stream",
     "text": [
      "Accurary SVM: 0.8755 \n",
      "Scores macro: (0.8756055380703611, 0.8754026105034616, 0.8754573752866919, None) \n",
      "Scores micro: (0.8755, 0.8755, 0.8755, None) \n",
      "Scores weighted: (0.8755597230940805, 0.8755, 0.8754831805185324, None) \n",
      "Scores pos: (0.8715149151881458, 0.8840981012658228, 0.877761413843888, None) \n",
      "Scores neg: (0.8796961609525765, 0.8667071197411004, 0.8731533367294958, None)\n"
     ]
    }
   ],
   "source": [
    "# SVM linear\n",
    "print(\"Accurary SVM: %s \\nScores macro: %s \\nScores micro: %s \\nScores weighted: %s \\nScores pos: %s \\nScores neg: %s\" \n",
    "      %(accuracy_score(label_test, predSVM_linear),\n",
    "      precision_recall_fscore_support(label_test, predSVM_linear, average='macro'), \n",
    "      precision_recall_fscore_support(label_test, predSVM_linear, average='micro'),\n",
    "      precision_recall_fscore_support(label_test, predSVM_linear, average='weighted'),\n",
    "      precision_recall_fscore_support(label_test, predSVM_linear, average='binary', pos_label='pos\\n'),\n",
    "      precision_recall_fscore_support(label_test, predSVM_linear, average='binary', pos_label='neg\\n')))"
   ]
  },
  {
   "cell_type": "code",
   "execution_count": null,
   "metadata": {},
   "outputs": [],
   "source": []
  }
 ],
 "metadata": {
  "kernelspec": {
   "display_name": "Python 3",
   "language": "python",
   "name": "python3"
  },
  "language_info": {
   "codemirror_mode": {
    "name": "ipython",
    "version": 3
   },
   "file_extension": ".py",
   "mimetype": "text/x-python",
   "name": "python",
   "nbconvert_exporter": "python",
   "pygments_lexer": "ipython3",
   "version": "3.7.5"
  }
 },
 "nbformat": 4,
 "nbformat_minor": 2
}
